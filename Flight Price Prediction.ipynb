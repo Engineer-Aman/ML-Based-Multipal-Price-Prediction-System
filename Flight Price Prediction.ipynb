{
 "cells": [
  {
   "cell_type": "code",
   "execution_count": 1,
   "id": "9550d5ba",
   "metadata": {},
   "outputs": [],
   "source": [
    "import pandas as pd\n",
    "import numpy as np\n",
    "import matplotlib.pyplot as plt"
   ]
  },
  {
   "cell_type": "code",
   "execution_count": 2,
   "id": "51b84855",
   "metadata": {},
   "outputs": [],
   "source": [
    "Df=pd.read_csv('Clean_Dataset.csv')"
   ]
  },
  {
   "cell_type": "code",
   "execution_count": 3,
   "id": "c72f8bf9",
   "metadata": {},
   "outputs": [
    {
     "data": {
      "text/html": [
       "<div>\n",
       "<style scoped>\n",
       "    .dataframe tbody tr th:only-of-type {\n",
       "        vertical-align: middle;\n",
       "    }\n",
       "\n",
       "    .dataframe tbody tr th {\n",
       "        vertical-align: top;\n",
       "    }\n",
       "\n",
       "    .dataframe thead th {\n",
       "        text-align: right;\n",
       "    }\n",
       "</style>\n",
       "<table border=\"1\" class=\"dataframe\">\n",
       "  <thead>\n",
       "    <tr style=\"text-align: right;\">\n",
       "      <th></th>\n",
       "      <th>Index</th>\n",
       "      <th>airline</th>\n",
       "      <th>flight</th>\n",
       "      <th>departure_time</th>\n",
       "      <th>stops</th>\n",
       "      <th>arrival_time</th>\n",
       "      <th>class</th>\n",
       "      <th>duration</th>\n",
       "      <th>days_left</th>\n",
       "      <th>price</th>\n",
       "    </tr>\n",
       "  </thead>\n",
       "  <tbody>\n",
       "    <tr>\n",
       "      <th>0</th>\n",
       "      <td>0</td>\n",
       "      <td>SpiceJet</td>\n",
       "      <td>SG-8709</td>\n",
       "      <td>Evening</td>\n",
       "      <td>zero</td>\n",
       "      <td>Night</td>\n",
       "      <td>Economy</td>\n",
       "      <td>2.17</td>\n",
       "      <td>1</td>\n",
       "      <td>5953</td>\n",
       "    </tr>\n",
       "    <tr>\n",
       "      <th>1</th>\n",
       "      <td>1</td>\n",
       "      <td>SpiceJet</td>\n",
       "      <td>SG-8157</td>\n",
       "      <td>Early_Morning</td>\n",
       "      <td>zero</td>\n",
       "      <td>Morning</td>\n",
       "      <td>Economy</td>\n",
       "      <td>2.33</td>\n",
       "      <td>1</td>\n",
       "      <td>5953</td>\n",
       "    </tr>\n",
       "    <tr>\n",
       "      <th>2</th>\n",
       "      <td>2</td>\n",
       "      <td>AirAsia</td>\n",
       "      <td>I5-764</td>\n",
       "      <td>Early_Morning</td>\n",
       "      <td>zero</td>\n",
       "      <td>Early_Morning</td>\n",
       "      <td>Economy</td>\n",
       "      <td>2.17</td>\n",
       "      <td>1</td>\n",
       "      <td>5956</td>\n",
       "    </tr>\n",
       "    <tr>\n",
       "      <th>3</th>\n",
       "      <td>3</td>\n",
       "      <td>Vistara</td>\n",
       "      <td>UK-995</td>\n",
       "      <td>Morning</td>\n",
       "      <td>zero</td>\n",
       "      <td>Afternoon</td>\n",
       "      <td>Economy</td>\n",
       "      <td>2.25</td>\n",
       "      <td>1</td>\n",
       "      <td>5955</td>\n",
       "    </tr>\n",
       "    <tr>\n",
       "      <th>4</th>\n",
       "      <td>4</td>\n",
       "      <td>Vistara</td>\n",
       "      <td>UK-963</td>\n",
       "      <td>Morning</td>\n",
       "      <td>zero</td>\n",
       "      <td>Morning</td>\n",
       "      <td>Economy</td>\n",
       "      <td>2.33</td>\n",
       "      <td>1</td>\n",
       "      <td>5955</td>\n",
       "    </tr>\n",
       "  </tbody>\n",
       "</table>\n",
       "</div>"
      ],
      "text/plain": [
       "   Index   airline   flight departure_time stops   arrival_time    class  \\\n",
       "0      0  SpiceJet  SG-8709        Evening  zero          Night  Economy   \n",
       "1      1  SpiceJet  SG-8157  Early_Morning  zero        Morning  Economy   \n",
       "2      2   AirAsia   I5-764  Early_Morning  zero  Early_Morning  Economy   \n",
       "3      3   Vistara   UK-995        Morning  zero      Afternoon  Economy   \n",
       "4      4   Vistara   UK-963        Morning  zero        Morning  Economy   \n",
       "\n",
       "   duration  days_left  price  \n",
       "0      2.17          1   5953  \n",
       "1      2.33          1   5953  \n",
       "2      2.17          1   5956  \n",
       "3      2.25          1   5955  \n",
       "4      2.33          1   5955  "
      ]
     },
     "execution_count": 3,
     "metadata": {},
     "output_type": "execute_result"
    }
   ],
   "source": [
    "Df.head()"
   ]
  },
  {
   "cell_type": "code",
   "execution_count": 4,
   "id": "530291b7",
   "metadata": {},
   "outputs": [
    {
     "name": "stdout",
     "output_type": "stream",
     "text": [
      "<class 'pandas.core.frame.DataFrame'>\n",
      "RangeIndex: 6670 entries, 0 to 6669\n",
      "Data columns (total 10 columns):\n",
      " #   Column          Non-Null Count  Dtype  \n",
      "---  ------          --------------  -----  \n",
      " 0   Index           6670 non-null   int64  \n",
      " 1   airline         6670 non-null   object \n",
      " 2   flight          6670 non-null   object \n",
      " 3   departure_time  6670 non-null   object \n",
      " 4   stops           6670 non-null   object \n",
      " 5   arrival_time    6670 non-null   object \n",
      " 6   class           6670 non-null   object \n",
      " 7   duration        6670 non-null   float64\n",
      " 8   days_left       6670 non-null   int64  \n",
      " 9   price           6670 non-null   int64  \n",
      "dtypes: float64(1), int64(3), object(6)\n",
      "memory usage: 521.2+ KB\n"
     ]
    }
   ],
   "source": [
    "Df.info()"
   ]
  },
  {
   "cell_type": "code",
   "execution_count": 5,
   "id": "dc9ddc18",
   "metadata": {},
   "outputs": [
    {
     "data": {
      "text/plain": [
       "Index             0\n",
       "airline           0\n",
       "flight            0\n",
       "departure_time    0\n",
       "stops             0\n",
       "arrival_time      0\n",
       "class             0\n",
       "duration          0\n",
       "days_left         0\n",
       "price             0\n",
       "dtype: int64"
      ]
     },
     "execution_count": 5,
     "metadata": {},
     "output_type": "execute_result"
    }
   ],
   "source": [
    "Df.isnull().sum()"
   ]
  },
  {
   "cell_type": "code",
   "execution_count": 6,
   "id": "753f3651",
   "metadata": {},
   "outputs": [
    {
     "data": {
      "text/html": [
       "<div>\n",
       "<style scoped>\n",
       "    .dataframe tbody tr th:only-of-type {\n",
       "        vertical-align: middle;\n",
       "    }\n",
       "\n",
       "    .dataframe tbody tr th {\n",
       "        vertical-align: top;\n",
       "    }\n",
       "\n",
       "    .dataframe thead th {\n",
       "        text-align: right;\n",
       "    }\n",
       "</style>\n",
       "<table border=\"1\" class=\"dataframe\">\n",
       "  <thead>\n",
       "    <tr style=\"text-align: right;\">\n",
       "      <th></th>\n",
       "      <th>Index</th>\n",
       "      <th>duration</th>\n",
       "      <th>days_left</th>\n",
       "      <th>price</th>\n",
       "    </tr>\n",
       "  </thead>\n",
       "  <tbody>\n",
       "    <tr>\n",
       "      <th>count</th>\n",
       "      <td>6670.00000</td>\n",
       "      <td>6670.000000</td>\n",
       "      <td>6670.000000</td>\n",
       "      <td>6670.000000</td>\n",
       "    </tr>\n",
       "    <tr>\n",
       "      <th>mean</th>\n",
       "      <td>3334.50000</td>\n",
       "      <td>9.558291</td>\n",
       "      <td>18.150375</td>\n",
       "      <td>6803.713793</td>\n",
       "    </tr>\n",
       "    <tr>\n",
       "      <th>std</th>\n",
       "      <td>1925.60748</td>\n",
       "      <td>7.148531</td>\n",
       "      <td>9.246545</td>\n",
       "      <td>4217.359645</td>\n",
       "    </tr>\n",
       "    <tr>\n",
       "      <th>min</th>\n",
       "      <td>0.00000</td>\n",
       "      <td>2.000000</td>\n",
       "      <td>1.000000</td>\n",
       "      <td>2409.000000</td>\n",
       "    </tr>\n",
       "    <tr>\n",
       "      <th>25%</th>\n",
       "      <td>1667.25000</td>\n",
       "      <td>2.330000</td>\n",
       "      <td>11.000000</td>\n",
       "      <td>3631.000000</td>\n",
       "    </tr>\n",
       "    <tr>\n",
       "      <th>50%</th>\n",
       "      <td>3334.50000</td>\n",
       "      <td>7.670000</td>\n",
       "      <td>18.000000</td>\n",
       "      <td>5954.000000</td>\n",
       "    </tr>\n",
       "    <tr>\n",
       "      <th>75%</th>\n",
       "      <td>5001.75000</td>\n",
       "      <td>13.830000</td>\n",
       "      <td>26.000000</td>\n",
       "      <td>8656.250000</td>\n",
       "    </tr>\n",
       "    <tr>\n",
       "      <th>max</th>\n",
       "      <td>6669.00000</td>\n",
       "      <td>30.080000</td>\n",
       "      <td>34.000000</td>\n",
       "      <td>31260.000000</td>\n",
       "    </tr>\n",
       "  </tbody>\n",
       "</table>\n",
       "</div>"
      ],
      "text/plain": [
       "            Index     duration    days_left         price\n",
       "count  6670.00000  6670.000000  6670.000000   6670.000000\n",
       "mean   3334.50000     9.558291    18.150375   6803.713793\n",
       "std    1925.60748     7.148531     9.246545   4217.359645\n",
       "min       0.00000     2.000000     1.000000   2409.000000\n",
       "25%    1667.25000     2.330000    11.000000   3631.000000\n",
       "50%    3334.50000     7.670000    18.000000   5954.000000\n",
       "75%    5001.75000    13.830000    26.000000   8656.250000\n",
       "max    6669.00000    30.080000    34.000000  31260.000000"
      ]
     },
     "execution_count": 6,
     "metadata": {},
     "output_type": "execute_result"
    }
   ],
   "source": [
    "Df.describe()"
   ]
  },
  {
   "cell_type": "code",
   "execution_count": 7,
   "id": "a88226b5",
   "metadata": {},
   "outputs": [],
   "source": [
    "Df=Df.drop('Index',axis=1)"
   ]
  },
  {
   "cell_type": "code",
   "execution_count": 8,
   "id": "c3de7c05",
   "metadata": {},
   "outputs": [],
   "source": [
    "Df=Df.drop('flight',axis=1)"
   ]
  },
  {
   "cell_type": "code",
   "execution_count": 9,
   "id": "95376c4c",
   "metadata": {},
   "outputs": [
    {
     "data": {
      "text/plain": [
       "{'whiskers': [<matplotlib.lines.Line2D at 0x20e652b8ee0>,\n",
       "  <matplotlib.lines.Line2D at 0x20e652d81f0>],\n",
       " 'caps': [<matplotlib.lines.Line2D at 0x20e652d8580>,\n",
       "  <matplotlib.lines.Line2D at 0x20e652d8790>],\n",
       " 'boxes': [<matplotlib.lines.Line2D at 0x20e652ada90>],\n",
       " 'medians': [<matplotlib.lines.Line2D at 0x20e652d8a60>],\n",
       " 'fliers': [<matplotlib.lines.Line2D at 0x20e652d8d30>],\n",
       " 'means': []}"
      ]
     },
     "execution_count": 9,
     "metadata": {},
     "output_type": "execute_result"
    },
    {
     "data": {
      "image/png": "[encoded data removed]",
      "text/plain": [
       "<Figure size 432x288 with 1 Axes>"
      ]
     },
     "metadata": {
      "needs_background": "light"
     },
     "output_type": "display_data"
    }
   ],
   "source": [
    "plt.boxplot(Df.duration)"
   ]
  },
  {
   "cell_type": "code",
   "execution_count": 10,
   "id": "3b4eb878",
   "metadata": {},
   "outputs": [
    {
     "data": {
      "text/plain": [
       "{'whiskers': [<matplotlib.lines.Line2D at 0x20e653c0e80>,\n",
       "  <matplotlib.lines.Line2D at 0x20e653d0190>],\n",
       " 'caps': [<matplotlib.lines.Line2D at 0x20e653d0490>,\n",
       "  <matplotlib.lines.Line2D at 0x20e653d0790>],\n",
       " 'boxes': [<matplotlib.lines.Line2D at 0x20e653c0bb0>],\n",
       " 'medians': [<matplotlib.lines.Line2D at 0x20e653d0a60>],\n",
       " 'fliers': [<matplotlib.lines.Line2D at 0x20e653d0d30>],\n",
       " 'means': []}"
      ]
     },
     "execution_count": 10,
     "metadata": {},
     "output_type": "execute_result"
    },
    {
     "data": {
      "image/png": "[encoded data removed]",
      "text/plain": [
       "<Figure size 432x288 with 1 Axes>"
      ]
     },
     "metadata": {
      "needs_background": "light"
     },
     "output_type": "display_data"
    }
   ],
   "source": [
    "plt.boxplot(Df.days_left)"
   ]
  },
  {
   "cell_type": "code",
   "execution_count": 11,
   "id": "86861f08",
   "metadata": {},
   "outputs": [
    {
     "data": {
      "text/plain": [
       "{'whiskers': [<matplotlib.lines.Line2D at 0x20e654394f0>,\n",
       "  <matplotlib.lines.Line2D at 0x20e654397c0>],\n",
       " 'caps': [<matplotlib.lines.Line2D at 0x20e65439a90>,\n",
       "  <matplotlib.lines.Line2D at 0x20e65439d60>],\n",
       " 'boxes': [<matplotlib.lines.Line2D at 0x20e65439220>],\n",
       " 'medians': [<matplotlib.lines.Line2D at 0x20e65447070>],\n",
       " 'fliers': [<matplotlib.lines.Line2D at 0x20e65447370>],\n",
       " 'means': []}"
      ]
     },
     "execution_count": 11,
     "metadata": {},
     "output_type": "execute_result"
    },
    {
     "data": {
      "image/png": "[encoded data removed]",
      "text/plain": [
       "<Figure size 432x288 with 1 Axes>"
      ]
     },
     "metadata": {
      "needs_background": "light"
     },
     "output_type": "display_data"
    }
   ],
   "source": [
    "plt.boxplot(Df.price)"
   ]
  },
  {
   "cell_type": "code",
   "execution_count": 12,
   "id": "38b48449",
   "metadata": {},
   "outputs": [
    {
     "name": "stdout",
     "output_type": "stream",
     "text": [
      "3631.0\n",
      "8656.25\n",
      "16194.125\n",
      "-3906.875\n"
     ]
    }
   ],
   "source": [
    "# method 1.\n",
    "Q1 = np.percentile(Df.price , 25)\n",
    "Q3 = np.percentile(Df.price, 75)\n",
    "print(Q1)\n",
    "print(Q3)\n",
    "\n",
    "# Finding inter quartile range for Selling_price\n",
    "IQR = Q3 - Q1\n",
    "ul = Q3 +1.5*IQR\n",
    "ll  = Q1 -1.5*IQR\n",
    "print(ul )\n",
    "print(ll )"
   ]
  },
  {
   "cell_type": "code",
   "execution_count": 13,
   "id": "c7e0eab8",
   "metadata": {},
   "outputs": [],
   "source": [
    "#droping the outlier \n",
    "Df= Df[(Df[\"price\"] < ul) & (Df[\"price\"] > ll)]"
   ]
  },
  {
   "cell_type": "code",
   "execution_count": 14,
   "id": "f0fa61d1",
   "metadata": {},
   "outputs": [
    {
     "data": {
      "text/html": [
       "<div>\n",
       "<style scoped>\n",
       "    .dataframe tbody tr th:only-of-type {\n",
       "        vertical-align: middle;\n",
       "    }\n",
       "\n",
       "    .dataframe tbody tr th {\n",
       "        vertical-align: top;\n",
       "    }\n",
       "\n",
       "    .dataframe thead th {\n",
       "        text-align: right;\n",
       "    }\n",
       "</style>\n",
       "<table border=\"1\" class=\"dataframe\">\n",
       "  <thead>\n",
       "    <tr style=\"text-align: right;\">\n",
       "      <th></th>\n",
       "      <th>airline</th>\n",
       "      <th>departure_time</th>\n",
       "      <th>stops</th>\n",
       "      <th>arrival_time</th>\n",
       "      <th>class</th>\n",
       "      <th>duration</th>\n",
       "      <th>days_left</th>\n",
       "      <th>price</th>\n",
       "    </tr>\n",
       "  </thead>\n",
       "  <tbody>\n",
       "    <tr>\n",
       "      <th>0</th>\n",
       "      <td>SpiceJet</td>\n",
       "      <td>Evening</td>\n",
       "      <td>zero</td>\n",
       "      <td>Night</td>\n",
       "      <td>Economy</td>\n",
       "      <td>2.17</td>\n",
       "      <td>1</td>\n",
       "      <td>5953</td>\n",
       "    </tr>\n",
       "    <tr>\n",
       "      <th>1</th>\n",
       "      <td>SpiceJet</td>\n",
       "      <td>Early_Morning</td>\n",
       "      <td>zero</td>\n",
       "      <td>Morning</td>\n",
       "      <td>Economy</td>\n",
       "      <td>2.33</td>\n",
       "      <td>1</td>\n",
       "      <td>5953</td>\n",
       "    </tr>\n",
       "    <tr>\n",
       "      <th>2</th>\n",
       "      <td>AirAsia</td>\n",
       "      <td>Early_Morning</td>\n",
       "      <td>zero</td>\n",
       "      <td>Early_Morning</td>\n",
       "      <td>Economy</td>\n",
       "      <td>2.17</td>\n",
       "      <td>1</td>\n",
       "      <td>5956</td>\n",
       "    </tr>\n",
       "    <tr>\n",
       "      <th>3</th>\n",
       "      <td>Vistara</td>\n",
       "      <td>Morning</td>\n",
       "      <td>zero</td>\n",
       "      <td>Afternoon</td>\n",
       "      <td>Economy</td>\n",
       "      <td>2.25</td>\n",
       "      <td>1</td>\n",
       "      <td>5955</td>\n",
       "    </tr>\n",
       "    <tr>\n",
       "      <th>4</th>\n",
       "      <td>Vistara</td>\n",
       "      <td>Morning</td>\n",
       "      <td>zero</td>\n",
       "      <td>Morning</td>\n",
       "      <td>Economy</td>\n",
       "      <td>2.33</td>\n",
       "      <td>1</td>\n",
       "      <td>5955</td>\n",
       "    </tr>\n",
       "    <tr>\n",
       "      <th>...</th>\n",
       "      <td>...</td>\n",
       "      <td>...</td>\n",
       "      <td>...</td>\n",
       "      <td>...</td>\n",
       "      <td>...</td>\n",
       "      <td>...</td>\n",
       "      <td>...</td>\n",
       "      <td>...</td>\n",
       "    </tr>\n",
       "    <tr>\n",
       "      <th>6665</th>\n",
       "      <td>SpiceJet</td>\n",
       "      <td>Early_Morning</td>\n",
       "      <td>zero</td>\n",
       "      <td>Morning</td>\n",
       "      <td>Economy</td>\n",
       "      <td>2.25</td>\n",
       "      <td>34</td>\n",
       "      <td>2621</td>\n",
       "    </tr>\n",
       "    <tr>\n",
       "      <th>6666</th>\n",
       "      <td>Vistara</td>\n",
       "      <td>Early_Morning</td>\n",
       "      <td>zero</td>\n",
       "      <td>Morning</td>\n",
       "      <td>Economy</td>\n",
       "      <td>2.25</td>\n",
       "      <td>34</td>\n",
       "      <td>3100</td>\n",
       "    </tr>\n",
       "    <tr>\n",
       "      <th>6667</th>\n",
       "      <td>Vistara</td>\n",
       "      <td>Evening</td>\n",
       "      <td>zero</td>\n",
       "      <td>Night</td>\n",
       "      <td>Economy</td>\n",
       "      <td>2.25</td>\n",
       "      <td>34</td>\n",
       "      <td>3100</td>\n",
       "    </tr>\n",
       "    <tr>\n",
       "      <th>6668</th>\n",
       "      <td>Vistara</td>\n",
       "      <td>Morning</td>\n",
       "      <td>zero</td>\n",
       "      <td>Morning</td>\n",
       "      <td>Economy</td>\n",
       "      <td>2.33</td>\n",
       "      <td>34</td>\n",
       "      <td>3100</td>\n",
       "    </tr>\n",
       "    <tr>\n",
       "      <th>6669</th>\n",
       "      <td>Vistara</td>\n",
       "      <td>Evening</td>\n",
       "      <td>zero</td>\n",
       "      <td>Evening</td>\n",
       "      <td>Economy</td>\n",
       "      <td>2.33</td>\n",
       "      <td>34</td>\n",
       "      <td>3100</td>\n",
       "    </tr>\n",
       "  </tbody>\n",
       "</table>\n",
       "<p>6448 rows × 8 columns</p>\n",
       "</div>"
      ],
      "text/plain": [
       "       airline departure_time stops   arrival_time    class  duration  \\\n",
       "0     SpiceJet        Evening  zero          Night  Economy      2.17   \n",
       "1     SpiceJet  Early_Morning  zero        Morning  Economy      2.33   \n",
       "2      AirAsia  Early_Morning  zero  Early_Morning  Economy      2.17   \n",
       "3      Vistara        Morning  zero      Afternoon  Economy      2.25   \n",
       "4      Vistara        Morning  zero        Morning  Economy      2.33   \n",
       "...        ...            ...   ...            ...      ...       ...   \n",
       "6665  SpiceJet  Early_Morning  zero        Morning  Economy      2.25   \n",
       "6666   Vistara  Early_Morning  zero        Morning  Economy      2.25   \n",
       "6667   Vistara        Evening  zero          Night  Economy      2.25   \n",
       "6668   Vistara        Morning  zero        Morning  Economy      2.33   \n",
       "6669   Vistara        Evening  zero        Evening  Economy      2.33   \n",
       "\n",
       "      days_left  price  \n",
       "0             1   5953  \n",
       "1             1   5953  \n",
       "2             1   5956  \n",
       "3             1   5955  \n",
       "4             1   5955  \n",
       "...         ...    ...  \n",
       "6665         34   2621  \n",
       "6666         34   3100  \n",
       "6667         34   3100  \n",
       "6668         34   3100  \n",
       "6669         34   3100  \n",
       "\n",
       "[6448 rows x 8 columns]"
      ]
     },
     "execution_count": 14,
     "metadata": {},
     "output_type": "execute_result"
    }
   ],
   "source": [
    "Df"
   ]
  },
  {
   "cell_type": "code",
   "execution_count": 46,
   "id": "20a47b4f",
   "metadata": {},
   "outputs": [],
   "source": [
    "#Resetting index\n",
    "Df.reset_index(drop=True, inplace=True)"
   ]
  },
  {
   "cell_type": "code",
   "execution_count": 15,
   "id": "47e39ca8",
   "metadata": {},
   "outputs": [
    {
     "data": {
      "text/plain": [
       "<BarContainer object of 6448 artists>"
      ]
     },
     "execution_count": 15,
     "metadata": {},
     "output_type": "execute_result"
    },
    {
     "data": {
      "image/png": "[encoded data removed]",
      "text/plain": [
       "<Figure size 432x288 with 1 Axes>"
      ]
     },
     "metadata": {
      "needs_background": "light"
     },
     "output_type": "display_data"
    }
   ],
   "source": [
    "plt.bar(Df.airline,Df.price)"
   ]
  },
  {
   "cell_type": "code",
   "execution_count": 16,
   "id": "b589f99f",
   "metadata": {},
   "outputs": [
    {
     "data": {
      "text/plain": [
       "<BarContainer object of 6448 artists>"
      ]
     },
     "execution_count": 16,
     "metadata": {},
     "output_type": "execute_result"
    },
    {
     "data": {
      "image/png": "[encoded data removed]",
      "text/plain": [
       "<Figure size 432x288 with 1 Axes>"
      ]
     },
     "metadata": {
      "needs_background": "light"
     },
     "output_type": "display_data"
    }
   ],
   "source": [
    "plt.bar(Df.departure_time,Df.price)"
   ]
  },
  {
   "cell_type": "code",
   "execution_count": 17,
   "id": "8598663c",
   "metadata": {},
   "outputs": [
    {
     "data": {
      "text/plain": [
       "<BarContainer object of 6448 artists>"
      ]
     },
     "execution_count": 17,
     "metadata": {},
     "output_type": "execute_result"
    },
    {
     "data": {
      "image/png": "[encoded data removed]",
      "text/plain": [
       "<Figure size 432x288 with 1 Axes>"
      ]
     },
     "metadata": {
      "needs_background": "light"
     },
     "output_type": "display_data"
    }
   ],
   "source": [
    "plt.bar(Df.stops,Df.price)"
   ]
  },
  {
   "cell_type": "code",
   "execution_count": 18,
   "id": "9f964492",
   "metadata": {},
   "outputs": [
    {
     "data": {
      "text/plain": [
       "<BarContainer object of 6448 artists>"
      ]
     },
     "execution_count": 18,
     "metadata": {},
     "output_type": "execute_result"
    },
    {
     "data": {
      "image/png": "[encoded data removed]",
      "text/plain": [
       "<Figure size 432x288 with 1 Axes>"
      ]
     },
     "metadata": {
      "needs_background": "light"
     },
     "output_type": "display_data"
    }
   ],
   "source": [
    "plt.bar(Df.arrival_time,Df.price)"
   ]
  },
  {
   "cell_type": "code",
   "execution_count": 19,
   "id": "18f8dd4f",
   "metadata": {},
   "outputs": [
    {
     "data": {
      "text/plain": [
       "<BarContainer object of 6448 artists>"
      ]
     },
     "execution_count": 19,
     "metadata": {},
     "output_type": "execute_result"
    },
    {
     "data": {
      "image/png": "[encoded data removed]",
      "text/plain": [
       "<Figure size 432x288 with 1 Axes>"
      ]
     },
     "metadata": {
      "needs_background": "light"
     },
     "output_type": "display_data"
    }
   ],
   "source": [
    "plt.bar(Df['class'],Df['price'])"
   ]
  },
  {
   "cell_type": "code",
   "execution_count": 20,
   "id": "f57425c5",
   "metadata": {},
   "outputs": [
    {
     "data": {
      "text/plain": [
       "<matplotlib.collections.PathCollection at 0x20e7c694be0>"
      ]
     },
     "execution_count": 20,
     "metadata": {},
     "output_type": "execute_result"
    },
    {
     "data": {
      "image/png": "[encoded data removed]",
      "text/plain": [
       "<Figure size 432x288 with 1 Axes>"
      ]
     },
     "metadata": {
      "needs_background": "light"
     },
     "output_type": "display_data"
    }
   ],
   "source": [
    "plt.scatter(Df.airline,Df['duration'])"
   ]
  },
  {
   "cell_type": "code",
   "execution_count": 21,
   "id": "3a94af89",
   "metadata": {},
   "outputs": [
    {
     "data": {
      "text/plain": [
       "[<matplotlib.lines.Line2D at 0x20e7ca13700>]"
      ]
     },
     "execution_count": 21,
     "metadata": {},
     "output_type": "execute_result"
    },
    {
     "data": {
      "image/png": "[encoded data removed]",
      "text/plain": [
       "<Figure size 432x288 with 1 Axes>"
      ]
     },
     "metadata": {
      "needs_background": "light"
     },
     "output_type": "display_data"
    }
   ],
   "source": [
    "plt.plot(Df.days_left,Df.price)"
   ]
  },
  {
   "cell_type": "code",
   "execution_count": 23,
   "id": "94a01736",
   "metadata": {},
   "outputs": [
    {
     "name": "stdout",
     "output_type": "stream",
     "text": [
      "1230\n"
     ]
    }
   ],
   "source": [
    "count=0\n",
    "for i in Df['class']:\n",
    "    if i=='Business':\n",
    "        count+=1\n",
    "print(count)"
   ]
  },
  {
   "cell_type": "code",
   "execution_count": 24,
   "id": "86f46848",
   "metadata": {},
   "outputs": [],
   "source": [
    "#encoding categorical data\n",
    "from sklearn.preprocessing import LabelEncoder\n",
    "Le=LabelEncoder()"
   ]
  },
  {
   "cell_type": "code",
   "execution_count": 25,
   "id": "61360fff",
   "metadata": {},
   "outputs": [
    {
     "data": {
      "text/plain": [
       "array(['SpiceJet', 'AirAsia', 'Vistara', 'GO_FIRST', 'Indigo',\n",
       "       'Air_India'], dtype=object)"
      ]
     },
     "execution_count": 25,
     "metadata": {},
     "output_type": "execute_result"
    }
   ],
   "source": [
    "Df['airline'].unique()"
   ]
  },
  {
   "cell_type": "code",
   "execution_count": 26,
   "id": "a9089e60",
   "metadata": {},
   "outputs": [
    {
     "data": {
      "text/plain": [
       "array([4, 0, 5, 2, 3, 1])"
      ]
     },
     "execution_count": 26,
     "metadata": {},
     "output_type": "execute_result"
    }
   ],
   "source": [
    "Df['airline']=Le.fit_transform(Df.airline)\n",
    "Df['airline'].unique()\n",
    "\n",
    "#'SpiceJet'=4, 'AirAsia'=0, 'Vistara'=5, 'GO_FIRST'=2, 'Indigo'=3,'Air_India'=1"
   ]
  },
  {
   "cell_type": "code",
   "execution_count": 27,
   "id": "b27e82f6",
   "metadata": {},
   "outputs": [
    {
     "data": {
      "text/plain": [
       "array(['Evening', 'Early_Morning', 'Morning', 'Afternoon', 'Night',\n",
       "       'Late_Night'], dtype=object)"
      ]
     },
     "execution_count": 27,
     "metadata": {},
     "output_type": "execute_result"
    }
   ],
   "source": [
    "Df['departure_time'].unique()"
   ]
  },
  {
   "cell_type": "code",
   "execution_count": 28,
   "id": "07a3140b",
   "metadata": {},
   "outputs": [
    {
     "data": {
      "text/plain": [
       "array([2, 1, 4, 0, 5, 3])"
      ]
     },
     "execution_count": 28,
     "metadata": {},
     "output_type": "execute_result"
    }
   ],
   "source": [
    "Df['departure_time']=Le.fit_transform(Df.departure_time)\n",
    "Df['departure_time'].unique()\n",
    "\n",
    "#'Evening'=2, 'Early_Morning'=1, 'Morning'=4, 'Afternoon'=0, 'Night'=5,'Late_Night'=3"
   ]
  },
  {
   "cell_type": "code",
   "execution_count": 29,
   "id": "7f94e4b9",
   "metadata": {},
   "outputs": [
    {
     "data": {
      "text/plain": [
       "array(['zero', 'one', 'two_or_more'], dtype=object)"
      ]
     },
     "execution_count": 29,
     "metadata": {},
     "output_type": "execute_result"
    }
   ],
   "source": [
    "Df['stops'].unique()"
   ]
  },
  {
   "cell_type": "code",
   "execution_count": 30,
   "id": "c3acd69b",
   "metadata": {},
   "outputs": [
    {
     "data": {
      "text/plain": [
       "array([2, 0, 1])"
      ]
     },
     "execution_count": 30,
     "metadata": {},
     "output_type": "execute_result"
    }
   ],
   "source": [
    "Df['stops']=Le.fit_transform(Df.stops)\n",
    "Df['stops'].unique()\n",
    "\n",
    "#'zero'=2, 'one'=0, 'two_or_more'=1"
   ]
  },
  {
   "cell_type": "code",
   "execution_count": 31,
   "id": "80dc25cf",
   "metadata": {},
   "outputs": [
    {
     "data": {
      "text/plain": [
       "array(['Night', 'Morning', 'Early_Morning', 'Afternoon', 'Evening',\n",
       "       'Late_Night'], dtype=object)"
      ]
     },
     "execution_count": 31,
     "metadata": {},
     "output_type": "execute_result"
    }
   ],
   "source": [
    "Df['arrival_time'].unique()"
   ]
  },
  {
   "cell_type": "code",
   "execution_count": 32,
   "id": "11affd9b",
   "metadata": {},
   "outputs": [
    {
     "data": {
      "text/plain": [
       "array([5, 4, 1, 0, 2, 3])"
      ]
     },
     "execution_count": 32,
     "metadata": {},
     "output_type": "execute_result"
    }
   ],
   "source": [
    "Df['arrival_time']=Le.fit_transform(Df.arrival_time)\n",
    "Df['arrival_time'].unique()\n",
    "\n",
    "#'Night'=5, 'Morning'=4, 'Early_Morning'=1, 'Afternoon'=0, 'Evening'=2,'Late_Night'=3"
   ]
  },
  {
   "cell_type": "code",
   "execution_count": 33,
   "id": "36640b0e",
   "metadata": {},
   "outputs": [
    {
     "data": {
      "text/plain": [
       "array(['Economy', 'Business'], dtype=object)"
      ]
     },
     "execution_count": 33,
     "metadata": {},
     "output_type": "execute_result"
    }
   ],
   "source": [
    "Df['class'].unique()"
   ]
  },
  {
   "cell_type": "code",
   "execution_count": 34,
   "id": "e548bbdc",
   "metadata": {},
   "outputs": [
    {
     "data": {
      "text/plain": [
       "array([1, 0])"
      ]
     },
     "execution_count": 34,
     "metadata": {},
     "output_type": "execute_result"
    }
   ],
   "source": [
    "Df['class']=Le.fit_transform(Df['class'])\n",
    "Df['class'].unique()\n",
    "\n",
    "#'Economy'=1, 'Business'=0"
   ]
  },
  {
   "cell_type": "code",
   "execution_count": 35,
   "id": "145851f0",
   "metadata": {},
   "outputs": [],
   "source": [
    "X=Df.drop('price',axis=1)\n",
    "Y=Df['price']"
   ]
  },
  {
   "cell_type": "code",
   "execution_count": 36,
   "id": "2302c275",
   "metadata": {},
   "outputs": [],
   "source": [
    "from sklearn.model_selection import train_test_split\n",
    "\n",
    "# Splitting the data into a training and test set\n",
    "X_train, X_test, Y_train, Y_test = train_test_split(X, Y, test_size=0.1)"
   ]
  },
  {
   "cell_type": "code",
   "execution_count": 37,
   "id": "e7385c88",
   "metadata": {},
   "outputs": [],
   "source": [
    "#building a model\n",
    "from sklearn.metrics import mean_absolute_error,mean_squared_error,r2_score\n",
    "from sklearn.linear_model import LinearRegression"
   ]
  },
  {
   "cell_type": "code",
   "execution_count": 38,
   "id": "e827f967",
   "metadata": {},
   "outputs": [],
   "source": [
    "lr=LinearRegression()"
   ]
  },
  {
   "cell_type": "code",
   "execution_count": 39,
   "id": "82dd2b82",
   "metadata": {},
   "outputs": [
    {
     "data": {
      "text/html": [
       "<style>#sk-container-id-1 {color: black;background-color: white;}#sk-container-id-1 pre{padding: 0;}#sk-container-id-1 div.sk-toggleable {background-color: white;}#sk-container-id-1 label.sk-toggleable__label {cursor: pointer;display: block;width: 100%;margin-bottom: 0;padding: 0.3em;box-sizing: border-box;text-align: center;}#sk-container-id-1 label.sk-toggleable__label-arrow:before {content: \"▸\";float: left;margin-right: 0.25em;color: #696969;}#sk-container-id-1 label.sk-toggleable__label-arrow:hover:before {color: black;}#sk-container-id-1 div.sk-estimator:hover label.sk-toggleable__label-arrow:before {color: black;}#sk-container-id-1 div.sk-toggleable__content {max-height: 0;max-width: 0;overflow: hidden;text-align: left;background-color: #f0f8ff;}#sk-container-id-1 div.sk-toggleable__content pre {margin: 0.2em;color: black;border-radius: 0.25em;background-color: #f0f8ff;}#sk-container-id-1 input.sk-toggleable__control:checked~div.sk-toggleable__content {max-height: 200px;max-width: 100%;overflow: auto;}#sk-container-id-1 input.sk-toggleable__control:checked~label.sk-toggleable__label-arrow:before {content: \"▾\";}#sk-container-id-1 div.sk-estimator input.sk-toggleable__control:checked~label.sk-toggleable__label {background-color: #d4ebff;}#sk-container-id-1 div.sk-label input.sk-toggleable__control:checked~label.sk-toggleable__label {background-color: #d4ebff;}#sk-container-id-1 input.sk-hidden--visually {border: 0;clip: rect(1px 1px 1px 1px);clip: rect(1px, 1px, 1px, 1px);height: 1px;margin: -1px;overflow: hidden;padding: 0;position: absolute;width: 1px;}#sk-container-id-1 div.sk-estimator {font-family: monospace;background-color: #f0f8ff;border: 1px dotted black;border-radius: 0.25em;box-sizing: border-box;margin-bottom: 0.5em;}#sk-container-id-1 div.sk-estimator:hover {background-color: #d4ebff;}#sk-container-id-1 div.sk-parallel-item::after {content: \"\";width: 100%;border-bottom: 1px solid gray;flex-grow: 1;}#sk-container-id-1 div.sk-label:hover label.sk-toggleable__label {background-color: #d4ebff;}#sk-container-id-1 div.sk-serial::before {content: \"\";position: absolute;border-left: 1px solid gray;box-sizing: border-box;top: 0;bottom: 0;left: 50%;z-index: 0;}#sk-container-id-1 div.sk-serial {display: flex;flex-direction: column;align-items: center;background-color: white;padding-right: 0.2em;padding-left: 0.2em;position: relative;}#sk-container-id-1 div.sk-item {position: relative;z-index: 1;}#sk-container-id-1 div.sk-parallel {display: flex;align-items: stretch;justify-content: center;background-color: white;position: relative;}#sk-container-id-1 div.sk-item::before, #sk-container-id-1 div.sk-parallel-item::before {content: \"\";position: absolute;border-left: 1px solid gray;box-sizing: border-box;top: 0;bottom: 0;left: 50%;z-index: -1;}#sk-container-id-1 div.sk-parallel-item {display: flex;flex-direction: column;z-index: 1;position: relative;background-color: white;}#sk-container-id-1 div.sk-parallel-item:first-child::after {align-self: flex-end;width: 50%;}#sk-container-id-1 div.sk-parallel-item:last-child::after {align-self: flex-start;width: 50%;}#sk-container-id-1 div.sk-parallel-item:only-child::after {width: 0;}#sk-container-id-1 div.sk-dashed-wrapped {border: 1px dashed gray;margin: 0 0.4em 0.5em 0.4em;box-sizing: border-box;padding-bottom: 0.4em;background-color: white;}#sk-container-id-1 div.sk-label label {font-family: monospace;font-weight: bold;display: inline-block;line-height: 1.2em;}#sk-container-id-1 div.sk-label-container {text-align: center;}#sk-container-id-1 div.sk-container {/* jupyter's `normalize.less` sets `[hidden] { display: none; }` but bootstrap.min.css set `[hidden] { display: none !important; }` so we also need the `!important` here to be able to override the default hidden behavior on the sphinx rendered scikit-learn.org. See: https://github.com/scikit-learn/scikit-learn/issues/21755 */display: inline-block !important;position: relative;}#sk-container-id-1 div.sk-text-repr-fallback {display: none;}</style><div id=\"sk-container-id-1\" class=\"sk-top-container\"><div class=\"sk-text-repr-fallback\"><pre>LinearRegression()</pre><b>In a Jupyter environment, please rerun this cell to show the HTML representation or trust the notebook. <br />On GitHub, the HTML representation is unable to render, please try loading this page with nbviewer.org.</b></div><div class=\"sk-container\" hidden><div class=\"sk-item\"><div class=\"sk-estimator sk-toggleable\"><input class=\"sk-toggleable__control sk-hidden--visually\" id=\"sk-estimator-id-1\" type=\"checkbox\" checked><label for=\"sk-estimator-id-1\" class=\"sk-toggleable__label sk-toggleable__label-arrow\">LinearRegression</label><div class=\"sk-toggleable__content\"><pre>LinearRegression()</pre></div></div></div></div></div>"
      ],
      "text/plain": [
       "LinearRegression()"
      ]
     },
     "execution_count": 39,
     "metadata": {},
     "output_type": "execute_result"
    }
   ],
   "source": [
    "lr.fit(X_train,Y_train)"
   ]
  },
  {
   "cell_type": "code",
   "execution_count": 40,
   "id": "fb0d4012",
   "metadata": {},
   "outputs": [],
   "source": [
    "Pred=lr.predict(X_test)"
   ]
  },
  {
   "cell_type": "code",
   "execution_count": 41,
   "id": "b1b70c43",
   "metadata": {},
   "outputs": [
    {
     "data": {
      "text/plain": [
       "array([ 3821.10643418,  5192.75284494,  5077.49613321,  6135.62176091,\n",
       "        6031.67115046,  4114.1245563 ,  6012.12633265,  5383.47588925,\n",
       "        5356.5537311 ,  5807.63300817,  2521.22705078, 12080.02603098,\n",
       "        6173.31048195,  5345.4562738 ,  5567.77619295,  2198.13374647,\n",
       "        4912.01845467,  6070.98764872,  4031.18080973,  4173.06821826,\n",
       "        6026.126229  ,  6246.04458641,  6978.6170806 ,  6968.58919571,\n",
       "        4446.2512547 , 12770.13202978,  4804.2357496 ,  6305.04715451,\n",
       "        2859.05779638,  4696.61595149,  5475.9506675 ,  6398.77128617,\n",
       "        4256.04094919,  6028.2443781 ,  4740.71927891,  2377.20058424,\n",
       "        4056.73667867,  4706.36439209,  5328.645432  ,  4962.99725705,\n",
       "        7072.76409705,  3795.1717056 ,  3168.59973493,  2351.7455832 ,\n",
       "        5512.26876166, 12938.83449616,  6414.18377115, 13223.55958873,\n",
       "        4069.92039518,  6778.84871473,  5566.65357345,  5561.47161491,\n",
       "        6116.19076056,  4837.74244902,  4819.97316202,  5985.01394481,\n",
       "        4947.15136944, 12759.93632961,  5102.22876018,  5583.59942375,\n",
       "        3823.2889729 , 10210.41973506,  7519.02166976,  4064.93853974,\n",
       "        5871.55480111,  6136.71500216,  3794.99566891,  4707.49263787,\n",
       "       13199.47924147, 12687.98129601,  4944.55706915,  6028.08288947,\n",
       "        5347.78027275,  6834.6396514 , 11888.47893957, 12551.95940985,\n",
       "        6292.85230341,  5497.54940186,  2371.75441323,  5059.42932043,\n",
       "        5305.68055899,  3728.74792593,  4942.69137357,  2848.71617693,\n",
       "       11503.36411257,  4495.51204954, 12364.4873349 ,  6533.20874522,\n",
       "        5725.1927448 ,  7584.54796901,  5815.48138124,  6828.12257099,\n",
       "        5534.90952493, 11270.97736022,  6617.43045466,  4822.0437684 ,\n",
       "        5460.77913981,  3465.05025571,  5730.24937852,  5700.89567426,\n",
       "       13037.75828695, 13034.812333  ,  5055.15614695,  2470.69128205,\n",
       "        6300.28702107,  5684.13757991,  5698.13747626,  4665.52013907,\n",
       "        7300.36250126,  4980.69571931,  7164.0783759 ,  5146.62868304,\n",
       "        3077.71696487,  6294.75910481,  4962.51932377, 13358.02330768,\n",
       "        5228.15321468,  5080.97754372,  4387.4416542 ,  5690.83339524,\n",
       "        6490.52505652,  4908.28903678,  6124.56065253,  4375.1724529 ,\n",
       "        3973.21094616, 11917.58226155,  6526.72039475,  5868.14556579,\n",
       "       10815.31533137,  2129.20225954,  5382.14365753,  5642.64945055,\n",
       "        4053.24716813,  5672.55378224, 12147.44793873,  6508.10087042,\n",
       "        5254.970008  ,  4828.94697329,  3954.31029931,  5094.60130398,\n",
       "        4126.41101261,  3904.50128984,  5302.46107232,  5721.99774555,\n",
       "       11738.79123076,  5397.52073635,  5154.24775303,  4751.9313797 ,\n",
       "       11514.12312858,  4982.98138034,  4487.80773182,  6630.83466423,\n",
       "        6156.82894351,  4373.49629213,  5061.06061762,  5343.49961333,\n",
       "        4741.97877858, 12933.45552236,  6394.25730047,  5439.94176574,\n",
       "        5531.78805414,  6798.31502609,  4570.64285912,  3293.4373454 ,\n",
       "        4606.1008227 ,  5866.8115986 ,  6033.00793636, 12790.05914876,\n",
       "        4482.82587638, 12744.63920977,  5643.20588568,  4359.10339948,\n",
       "        3397.26966265,  6262.85649159,  2848.71617693, 12664.1883148 ,\n",
       "        5288.1911521 , 12475.80195785, 13070.42671949,  5962.10256816,\n",
       "        7098.61013961,  2364.85120835,  6600.58171079,  5564.11544229,\n",
       "        2119.3091707 ,  3786.13580356,  3139.01816343, 11880.47335919,\n",
       "        2749.72821213,  5743.44339967, 13249.81634293, 12657.61056833,\n",
       "        4023.99493789,  5149.42145659,  4085.27420309,  3885.89714328,\n",
       "        4927.37840782,  4058.19371255,  6650.54390984,  5701.6269868 ,\n",
       "        4864.08208154, 12495.88814378,  5535.40915151,  5590.52663412,\n",
       "        2158.54141575,  5911.93577277, 12272.45119722,  5288.62669982,\n",
       "       12057.12452891,  7135.14495334,  5557.06683709,  5989.20465137,\n",
       "       12726.26216168,  3147.40160344,  4481.91705713,  6079.96778754,\n",
       "        5564.26654226,  5919.55484276,  3102.8627283 ,  5577.79787962,\n",
       "        2696.25365543,  4072.43535929,  6745.37956325,  3286.03451392,\n",
       "        4681.50529344,  6159.77229808,  5320.16367737,  6175.59813197,\n",
       "       10649.65329178,  2023.13630759,  2015.82040207,  6355.37417065,\n",
       "       13039.12839858,  7183.1622158 ,  4865.43101511, 12929.79881434,\n",
       "        4697.92564687,  4176.45897835,  4654.37988853,  3678.81397576,\n",
       "        4824.55115144,  5775.99165388,  7356.15233406,  5994.56640436,\n",
       "        2422.23908597,  5625.52985219,  2640.39862788,  6281.50735768,\n",
       "        6227.23013095,  5042.12786897,  5908.45028913,  6088.79783883,\n",
       "        5366.62108326,  6760.63639408,  4855.76627456,  2636.90911734,\n",
       "        4905.06424894,  6994.84240776, 12321.36770887,  4822.0437684 ,\n",
       "       13092.59286625, 13640.25770705,  2928.74243495,  3715.64230078,\n",
       "        4806.15264002, 11721.09070985,  4651.37079477,  6039.45339473,\n",
       "        5080.01463948,  5848.73035042,  5472.31317904,  6372.18607584,\n",
       "        5361.8023679 ,  4086.50838562,  4168.57364596,  5002.59456576,\n",
       "        5253.96703037, 12957.98491917,  4258.24219221, 11560.49018683,\n",
       "       11799.65742604,  2527.57953309, 12381.78078147,  4270.00077215,\n",
       "       12608.05901996,  6308.94489318, 11952.08151448,  3931.08570707,\n",
       "        5855.95226785,  6044.1973231 ,  4176.2681955 ,  2738.3533692 ,\n",
       "       11328.26159657,  5520.74159768, 13409.20272842,  5399.83766076,\n",
       "        3715.12740818,  5673.44502654,  3663.08007129,  4715.95911214,\n",
       "        7813.99439369, 11218.93201232, 12659.90120736,  5292.93104153,\n",
       "        4947.39182994,  5309.30434662,  3930.43601843,  2908.00961904,\n",
       "        6098.53423562,  4287.74522306, 12945.28450871,  4852.13607625,\n",
       "        4738.51803589,  5442.1267745 ,  3477.34701665,  2312.40987514,\n",
       "       12213.28840837, 12660.89798678, 12345.92951083,  3007.10256581,\n",
       "        5350.88367083,  4973.41166578,  4354.70705867,  4691.80276727,\n",
       "        5889.71757894,  6548.08170052,  2853.12912445,  5558.01096736,\n",
       "        5710.42246253,  5445.57746607,  5954.05467559,  5576.22328801,\n",
       "        5006.00453564,  5361.5078566 , 12547.96880269,  6295.5663549 ,\n",
       "        4924.48403091,  4709.31034605,  4497.29994364, 12921.82759019,\n",
       "        4818.29233402,  6207.06665879, 11648.70657656,  2416.79291497,\n",
       "        5531.91964097,  6142.33752061,  6190.95743683,  5150.03252114,\n",
       "        5657.80117007,  6282.04342833, 13020.96758531,  5709.26339897,\n",
       "       11957.3376372 , 13332.88917298, 11736.20906944,  5914.72854632,\n",
       "        5120.0141484 ,  5792.6832856 ,  5952.39598544,  6205.21999248,\n",
       "        4597.98952489, 11629.34888446,  5182.58899676,  4282.39780251,\n",
       "        4891.32709502,  5339.35179886, 13560.19397076, 11737.56713725,\n",
       "        5649.06964903, 12328.12833764,  5439.14200158,  5909.87650893,\n",
       "        5681.8919051 ,  5926.6576318 ,  4517.9815431 ,  4496.5623987 ,\n",
       "       12653.16615473,  5714.95359938,  4570.62092576,  6308.8731381 ,\n",
       "        5911.34466604,  5188.21151521,  5533.87630144,  6128.15173223,\n",
       "        4591.24664137,  4269.93274523,  5610.87818307,  4141.93960278,\n",
       "        4736.24150909,  2920.35899494,  4471.05630166, 12408.31180296,\n",
       "        3495.30022015,  5381.87540614,  5680.78931399,  5410.62835049,\n",
       "        5056.72141419, 11743.66032415,  6128.53567743, 12033.960451  ,\n",
       "        5591.59298269,  4468.87376295, 13446.21849863,  5813.01198197,\n",
       "        5219.70685508,  3957.60902701,  5252.93380688,  5005.11711095,\n",
       "        7270.09583496,  5752.73786166,  4122.98442165,  5119.90472401,\n",
       "        2828.34853225,  5713.86035813,  6073.99156178,  3290.92996236,\n",
       "        5198.018716  , 12634.98975919,  6378.81032621,  4932.79828473,\n",
       "       12139.57880641,  5072.32684129,  5685.55287226,  6866.86206129,\n",
       "       11633.61955   ,  5679.4383083 ,  3703.56667322,  6024.16956854,\n",
       "       12215.84781774,  4946.15755226,  5441.7680892 ,  2477.59448694,\n",
       "        5370.31467118, 12484.5092532 ,  7191.83007809,  4142.98194705,\n",
       "        6336.8440678 ,  6813.50360979,  6523.51335539,  3296.87575995,\n",
       "        5063.53310104,  3506.5992469 , 10685.85351285,  4725.89790066,\n",
       "       11738.67846871,  7701.40615514,  4263.25788863,  6392.93255468,\n",
       "        2727.81059171,  5847.60937923,  5504.17365224,  4445.52700339,\n",
       "        5130.67762316,  5451.2040301 ,  3942.01201941,  5351.72061364,\n",
       "       12869.67569514,  5620.28680749,  5199.55646094,  3950.82078877,\n",
       "        5152.0402776 ,  4760.53381726,  5877.23123974,  5427.59245951,\n",
       "        3776.56755903,  3990.50606135,  4823.50080228,  2205.03695136,\n",
       "        5551.45635875,  2743.7995402 ,  4774.24000744,  6259.3468409 ,\n",
       "       11028.63288701, 12121.92872948,  4815.15444666, 12379.9630733 ,\n",
       "        9080.43650885,  4712.71418415,  4332.78372479,  7721.86821172,\n",
       "        6037.25215171,  5825.24673617,  5571.53697807, 12848.65533492,\n",
       "        4830.24562947,  5928.79157877,  5605.62401513,  4387.23281445,\n",
       "       13689.27569272,  5862.06744591,  5486.22313495, 12090.76480298,\n",
       "        6854.10492856,  5010.41891585, 12746.89587848,  4679.95051001,\n",
       "        4893.26498151,  7293.7184015 ,  6008.85531506,  4378.47814757,\n",
       "        3719.1796814 ,  3020.82871383,  4726.45620431,  3841.25328616,\n",
       "        5501.14845726,  4587.28636724,  4940.95746931, 13252.68992269,\n",
       "        2583.51037684,  5034.85588976, 12226.04299896, 11724.51748222,\n",
       "        4881.56131628, 11776.37985267, 13025.348245  ,  6193.51632724,\n",
       "        2257.52938055,  5715.40682592,  5908.29473013,  5690.43315854,\n",
       "        3172.53176017,  4587.06321255,  5087.0213905 ,  4934.787047  ,\n",
       "        5668.31580047,  5262.53788138, 12329.62181559,  4059.24406171,\n",
       "        6742.05976184,  4611.74462306,  5073.25941251,  5516.7363386 ,\n",
       "        3281.86134442, 11686.37409881, 13402.57337572, 11392.3460241 ,\n",
       "        5814.37004978,  5397.20399206,  4586.41352391,  5430.13110592,\n",
       "       12548.28098408,  7055.25548036,  5106.95067988,  5879.87506712,\n",
       "       11986.41508518,  7007.70513656,  6061.72556969,  6389.71432243,\n",
       "       10868.31246027,  6551.1225766 ,  5805.51040004,  6236.19699274,\n",
       "        5023.7318609 ,  5700.09413673, 13244.0074135 ,  5639.62416044,\n",
       "        4572.0106673 ,  2293.96306095,  5405.74806421, 10866.39724054,\n",
       "        5738.61710323,  4279.61107905,  4843.47609468,  5383.14489969,\n",
       "        5698.68819883,  5353.90315235,  4150.17513453,  4766.48096441,\n",
       "        5790.11889824,  4363.81401453,  4720.91604522,  6564.18574549,\n",
       "       12314.40383793,  5422.59005672,  5082.74125003, 12726.91539248,\n",
       "       11961.31825049,  4717.66072858,  7702.75924496, 12954.66270496,\n",
       "        6012.2048391 ,  4987.43077193,  1694.58479216, 12533.82590641,\n",
       "        6907.64461034,  4939.73337581,  5712.69891967,  6435.04088743,\n",
       "       13152.11469085,  4805.72238104, 12053.61111469,  2647.80145936,\n",
       "        6436.10828888,  3619.41834168,  5454.78585804, 12600.25903593,\n",
       "        5527.54521368,  5581.503811  , 12032.64236941, 12173.52740643,\n",
       "        4221.92129047,  4162.57675238,  4082.88905702,  5822.02850392,\n",
       "        3348.81746657, 11518.74980667,  4924.32847191,  3965.68025143,\n",
       "        3516.99196233,  4703.16120564,  5402.93917742,  4577.50535668,\n",
       "        4090.98416645,  3357.67733192,  5363.2285877 ,  4725.06356005,\n",
       "        5794.78088735,  3683.7094242 ,  4523.82672261,  7620.48055279,\n",
       "        3007.72308868,  4213.2390015 ,  5324.90687987,  4039.76560267,\n",
       "       12700.36858602,  4477.7336283 ,  5249.35715476, 11274.91770111,\n",
       "        4493.44395111,  6295.60166592,  2133.0864147 ,  5037.11818475,\n",
       "        6266.45554699,  6083.56996499,  4703.14593963,  4634.53057103,\n",
       "        4830.38250964,  5533.31986631,  4712.71418415, 12543.50173599,\n",
       "        5786.65512865,  4945.8265627 ,  5027.20266713,  5516.20026795,\n",
       "        4601.31399353])"
      ]
     },
     "execution_count": 41,
     "metadata": {},
     "output_type": "execute_result"
    }
   ],
   "source": [
    "Pred"
   ]
  },
  {
   "cell_type": "code",
   "execution_count": 42,
   "id": "f6d3e911",
   "metadata": {},
   "outputs": [
    {
     "data": {
      "text/plain": [
       "0.7993495531085"
      ]
     },
     "execution_count": 42,
     "metadata": {},
     "output_type": "execute_result"
    }
   ],
   "source": [
    "r2_score(Y_test,Pred)"
   ]
  },
  {
   "cell_type": "code",
   "execution_count": 53,
   "id": "906b6386",
   "metadata": {},
   "outputs": [],
   "source": [
    "# trying to impore model accuarcy by trying to find best value for random_state\n",
    "scores=[]\n",
    "for i in range(1000):\n",
    "    X_train,X_test,Y_train,Y_test=train_test_split(X,Y,test_size=0.1,random_state=i)\n",
    "    lr=LinearRegression()\n",
    "    lr.fit(X_train,Y_train)\n",
    "    Pred=lr.predict(X_test)\n",
    "    scores.append(r2_score(Y_test,Pred))"
   ]
  },
  {
   "cell_type": "code",
   "execution_count": 54,
   "id": "ecca635e",
   "metadata": {},
   "outputs": [
    {
     "data": {
      "text/plain": [
       "960"
      ]
     },
     "execution_count": 54,
     "metadata": {},
     "output_type": "execute_result"
    }
   ],
   "source": [
    "# chaking best value of random state \n",
    "np.argmax(scores)"
   ]
  },
  {
   "cell_type": "code",
   "execution_count": 55,
   "id": "53dff778",
   "metadata": {},
   "outputs": [
    {
     "data": {
      "text/plain": [
       "0.8430389987635337"
      ]
     },
     "execution_count": 55,
     "metadata": {},
     "output_type": "execute_result"
    }
   ],
   "source": [
    "# accurcay of best value \n",
    "scores[np.argmax(scores)]"
   ]
  },
  {
   "cell_type": "code",
   "execution_count": 56,
   "id": "bafc9044",
   "metadata": {},
   "outputs": [],
   "source": [
    "# Splitting the data into a training and test set\n",
    "X_train1, X_test1, Y_train1, Y_test1 = train_test_split(X, Y, test_size=0.1,random_state=np.argmax(scores))"
   ]
  },
  {
   "cell_type": "code",
   "execution_count": 57,
   "id": "08d091fa",
   "metadata": {},
   "outputs": [],
   "source": [
    "lin_reg=LinearRegression()"
   ]
  },
  {
   "cell_type": "code",
   "execution_count": 59,
   "id": "19244fce",
   "metadata": {},
   "outputs": [
    {
     "data": {
      "text/html": [
       "<style>#sk-container-id-2 {color: black;background-color: white;}#sk-container-id-2 pre{padding: 0;}#sk-container-id-2 div.sk-toggleable {background-color: white;}#sk-container-id-2 label.sk-toggleable__label {cursor: pointer;display: block;width: 100%;margin-bottom: 0;padding: 0.3em;box-sizing: border-box;text-align: center;}#sk-container-id-2 label.sk-toggleable__label-arrow:before {content: \"▸\";float: left;margin-right: 0.25em;color: #696969;}#sk-container-id-2 label.sk-toggleable__label-arrow:hover:before {color: black;}#sk-container-id-2 div.sk-estimator:hover label.sk-toggleable__label-arrow:before {color: black;}#sk-container-id-2 div.sk-toggleable__content {max-height: 0;max-width: 0;overflow: hidden;text-align: left;background-color: #f0f8ff;}#sk-container-id-2 div.sk-toggleable__content pre {margin: 0.2em;color: black;border-radius: 0.25em;background-color: #f0f8ff;}#sk-container-id-2 input.sk-toggleable__control:checked~div.sk-toggleable__content {max-height: 200px;max-width: 100%;overflow: auto;}#sk-container-id-2 input.sk-toggleable__control:checked~label.sk-toggleable__label-arrow:before {content: \"▾\";}#sk-container-id-2 div.sk-estimator input.sk-toggleable__control:checked~label.sk-toggleable__label {background-color: #d4ebff;}#sk-container-id-2 div.sk-label input.sk-toggleable__control:checked~label.sk-toggleable__label {background-color: #d4ebff;}#sk-container-id-2 input.sk-hidden--visually {border: 0;clip: rect(1px 1px 1px 1px);clip: rect(1px, 1px, 1px, 1px);height: 1px;margin: -1px;overflow: hidden;padding: 0;position: absolute;width: 1px;}#sk-container-id-2 div.sk-estimator {font-family: monospace;background-color: #f0f8ff;border: 1px dotted black;border-radius: 0.25em;box-sizing: border-box;margin-bottom: 0.5em;}#sk-container-id-2 div.sk-estimator:hover {background-color: #d4ebff;}#sk-container-id-2 div.sk-parallel-item::after {content: \"\";width: 100%;border-bottom: 1px solid gray;flex-grow: 1;}#sk-container-id-2 div.sk-label:hover label.sk-toggleable__label {background-color: #d4ebff;}#sk-container-id-2 div.sk-serial::before {content: \"\";position: absolute;border-left: 1px solid gray;box-sizing: border-box;top: 0;bottom: 0;left: 50%;z-index: 0;}#sk-container-id-2 div.sk-serial {display: flex;flex-direction: column;align-items: center;background-color: white;padding-right: 0.2em;padding-left: 0.2em;position: relative;}#sk-container-id-2 div.sk-item {position: relative;z-index: 1;}#sk-container-id-2 div.sk-parallel {display: flex;align-items: stretch;justify-content: center;background-color: white;position: relative;}#sk-container-id-2 div.sk-item::before, #sk-container-id-2 div.sk-parallel-item::before {content: \"\";position: absolute;border-left: 1px solid gray;box-sizing: border-box;top: 0;bottom: 0;left: 50%;z-index: -1;}#sk-container-id-2 div.sk-parallel-item {display: flex;flex-direction: column;z-index: 1;position: relative;background-color: white;}#sk-container-id-2 div.sk-parallel-item:first-child::after {align-self: flex-end;width: 50%;}#sk-container-id-2 div.sk-parallel-item:last-child::after {align-self: flex-start;width: 50%;}#sk-container-id-2 div.sk-parallel-item:only-child::after {width: 0;}#sk-container-id-2 div.sk-dashed-wrapped {border: 1px dashed gray;margin: 0 0.4em 0.5em 0.4em;box-sizing: border-box;padding-bottom: 0.4em;background-color: white;}#sk-container-id-2 div.sk-label label {font-family: monospace;font-weight: bold;display: inline-block;line-height: 1.2em;}#sk-container-id-2 div.sk-label-container {text-align: center;}#sk-container-id-2 div.sk-container {/* jupyter's `normalize.less` sets `[hidden] { display: none; }` but bootstrap.min.css set `[hidden] { display: none !important; }` so we also need the `!important` here to be able to override the default hidden behavior on the sphinx rendered scikit-learn.org. See: https://github.com/scikit-learn/scikit-learn/issues/21755 */display: inline-block !important;position: relative;}#sk-container-id-2 div.sk-text-repr-fallback {display: none;}</style><div id=\"sk-container-id-2\" class=\"sk-top-container\"><div class=\"sk-text-repr-fallback\"><pre>LinearRegression()</pre><b>In a Jupyter environment, please rerun this cell to show the HTML representation or trust the notebook. <br />On GitHub, the HTML representation is unable to render, please try loading this page with nbviewer.org.</b></div><div class=\"sk-container\" hidden><div class=\"sk-item\"><div class=\"sk-estimator sk-toggleable\"><input class=\"sk-toggleable__control sk-hidden--visually\" id=\"sk-estimator-id-2\" type=\"checkbox\" checked><label for=\"sk-estimator-id-2\" class=\"sk-toggleable__label sk-toggleable__label-arrow\">LinearRegression</label><div class=\"sk-toggleable__content\"><pre>LinearRegression()</pre></div></div></div></div></div>"
      ],
      "text/plain": [
       "LinearRegression()"
      ]
     },
     "execution_count": 59,
     "metadata": {},
     "output_type": "execute_result"
    }
   ],
   "source": [
    "lin_reg.fit(X_train1,Y_train1)"
   ]
  },
  {
   "cell_type": "code",
   "execution_count": 63,
   "id": "4b1dd4c4",
   "metadata": {},
   "outputs": [],
   "source": [
    "Pred1=lin_reg.predict(X_test1)"
   ]
  },
  {
   "cell_type": "code",
   "execution_count": 64,
   "id": "9056adc2",
   "metadata": {},
   "outputs": [
    {
     "data": {
      "text/plain": [
       "array([ 3169.80521764,  5698.9437589 ,  5356.05833522,  6125.44936899,\n",
       "        4756.90051322,  3038.78556747,  6044.9491269 ,  4935.17676176,\n",
       "        5071.04827669,  5622.48003478,  3758.44627778,  4306.01436373,\n",
       "       12257.77399941,  2968.95120016,  5504.74567065,  4507.55913637,\n",
       "       11529.47106858,  6212.7134223 ,  6165.79115663,  6200.39111519,\n",
       "        5439.97598818, 12178.87936935,  2993.42802723,  6150.63039908,\n",
       "        5078.17879102, 12462.42215325,  4890.36999866,  5578.424373  ,\n",
       "       11139.35072792, 12882.35208916,  5441.7371262 ,  4287.45028877,\n",
       "       11818.31037365, 12181.01014975, 10455.59138159,  3266.12987212,\n",
       "        4227.92963104,  5254.59957934,  2322.55526684,  5337.89264001,\n",
       "        3883.07938414, 11647.48171292,  4034.17160354,  6935.65701151,\n",
       "        3729.3354774 , 12366.80524728,  6884.67824734,  5234.47601995,\n",
       "       12894.75909067, 12497.36582721,  6557.62224729, 11633.72313003,\n",
       "        6043.51285112,  3238.47662526,  2411.06705986,  3262.95345233,\n",
       "        5491.00564327,  2567.08065982, 12115.59318493,  2493.62932814,\n",
       "        5666.47990042,  3954.18573209,  4670.43203142,  4745.84231832,\n",
       "        6230.11537172, 11868.94031194,  5889.8640282 , 12916.33053502,\n",
       "        6123.95372172,  4597.51625161, 12463.77473329,  4943.932561  ,\n",
       "        4519.28632487,  5336.44118879,  3195.00702972,  5687.56490054,\n",
       "        4816.43862542,  5227.16203335,  5120.26590284, 12117.02946072,\n",
       "       12606.39707508,  5950.92030595,  4896.58088687,  5175.80532394,\n",
       "        3125.42056998, 12153.80072516,  3221.26814701, 11463.51648491,\n",
       "        5037.69853496,  2882.50275235,  5038.49904156,  5312.84548164,\n",
       "        4067.41241992, 10274.11640024,  5280.29411606, 12379.85655472,\n",
       "        5148.59132536,  2927.61238502,  3655.61493057,  2818.58113715,\n",
       "        2529.99175089,  7502.86856273, 12812.6279544 ,  6406.38408301,\n",
       "        6041.76339289,  3960.35654517,  6994.3690491 ,  5702.52395065,\n",
       "        5758.3472893 ,  6416.80746877,  5859.21390376,  5356.56876942,\n",
       "        4184.52443003,  5434.40890299,  3997.6705529 ,  5205.02641657,\n",
       "        6223.04132773, 13556.59371916,  6428.23200566,  5480.88126317,\n",
       "       12335.09195645, 10673.65387732,  4868.06122248,  4206.58407888,\n",
       "        3044.64304903, 12012.97153282,  6111.68159059,  5130.98164003,\n",
       "        6019.05275765,  4818.47458788,  5443.76404222,  4091.73992203,\n",
       "        4361.26534713,  3864.64306783,  5602.09545032, 11708.87797126,\n",
       "       12592.66537919,  5186.35504332,  6479.63784258,  4538.16318576,\n",
       "       11884.42462502,  5320.53641089, 12338.1981364 ,  4166.01788468,\n",
       "        2006.04140732, 12054.40895328,  4833.76773152,  3210.45558064,\n",
       "        6082.1929175 ,  4954.63384361, 13153.47522708,  4914.66635335,\n",
       "        2719.44333246, 12472.88651586,  2580.26433065, 13036.79583926,\n",
       "        5380.07603143,  4957.74282821,  4986.81935205, 12350.25812213,\n",
       "        6142.1427059 ,  4668.03481065,  4826.69377598,  4799.52971636,\n",
       "        5740.56747432, 11660.44834866,  4572.85286984,  3639.36819071,\n",
       "        6885.33780124,  3526.54481773,  4503.8012411 ,  7610.82530281,\n",
       "        4710.61670819,  2976.74275403,  5023.69760122,  4110.72660818,\n",
       "        6076.66241773, 12074.73067654,  5601.477238  ,  6631.51637272,\n",
       "        4848.63300902,  5029.28747248,  3262.70554476,  7341.48643241,\n",
       "        2164.39364996,  2826.5805533 ,  4075.49318217, 11852.91311415,\n",
       "        4238.22334839,  5405.76406663, 13138.30625676,  4524.07685946,\n",
       "        7917.23865743,  2806.71232087,  4751.19099685,  4939.92623256,\n",
       "        4274.55279181, 12375.58386244,  5807.97500677,  3958.02398481,\n",
       "        6381.31103629, 12725.16309707, 12217.71625803,  4955.10261226,\n",
       "        4758.79880066,  6581.31812192,  6414.14922291,  6086.3601334 ,\n",
       "        2816.60576403, 13656.74087548,  6672.00580158,  5527.76638958,\n",
       "        3003.20565128, 13013.41253261,  3365.97336547,  4516.35052237,\n",
       "        4277.32617454,  5445.47243665, 12516.33448345,  5955.36102012,\n",
       "        4190.44760142,  5135.87917526,  5371.40539964,  5292.53539742,\n",
       "       10435.5796587 ,  2830.00488066,  3385.74708638,  4301.22382914,\n",
       "        5155.61715206, 12818.30051598,  3501.37953851,  4144.26346097,\n",
       "        4301.80300161,  5491.63499172,  6370.60659471,  6473.13526168,\n",
       "        5833.97299928,  6101.54713363,  5997.69475501,  2551.19764664,\n",
       "        3195.23971202, 11417.79141469,  5538.0384917 ,  4153.09215449,\n",
       "        5184.50992584,  2460.39920883,  4017.92486367,  5364.80419538,\n",
       "        3933.0239527 ,  4303.47676969,  4711.17412401, 12690.15920205,\n",
       "        5594.11371975, 12411.2269534 ,  5322.22229784,  4772.17180097,\n",
       "       12498.56024789, 12877.06246176,  3966.4619343 ,  4248.44604523,\n",
       "        4276.12113334, 12152.81366386,  4295.69761248,  5118.83243169,\n",
       "        5579.65736048,  4409.79930715,  4067.48969494,  3799.60242322,\n",
       "        5027.56910105,  5009.09953762,  5587.62988962,  4865.04854147,\n",
       "       11927.73027653,  5819.53973373,  5484.46145492,  5266.83342145,\n",
       "       11191.91047809,  5431.11164013,  3405.07619162,  7476.86624405,\n",
       "        4619.19845411,  4896.28457268, 13563.5721039 ,  3526.54481773,\n",
       "        6100.11366248,  5544.03002039, 12011.92391205,  4339.25518011,\n",
       "       13075.20468641,  4636.89616136,  4000.4466985 ,  5825.59442127,\n",
       "        6547.80658205,  3101.88010262,  6118.9181069 ,  4803.15330862,\n",
       "        4063.21697996,  3517.87418594,  3375.16111998, 13510.30259399,\n",
       "       12573.48081288,  9627.76866151,  3094.45985895,  5100.91168672,\n",
       "       11650.91030069,  2820.81712615,  5640.53742627,  5768.64759278,\n",
       "        4821.39093545, 11526.82266256, 11428.46154989,  4375.09998528,\n",
       "        5334.54716177,  4790.93011779,  6721.84870511, 12032.13130182,\n",
       "        4509.72441248,  6208.65927345,  4402.58692576,  5924.96535861,\n",
       "        6624.44657874,  3841.20118308,  2859.89864471,  5069.23309878,\n",
       "        5880.13530653,  5652.47139872,  5075.47867798,  4612.56865924,\n",
       "        4729.68066936, 12524.10272564,  5552.36174993,  5333.8947196 ,\n",
       "        5271.04478357,  4799.36499485,  4180.73230492,  6438.77533418,\n",
       "        2798.32682638,  4511.86608119,  5895.94758414,  3954.44379306,\n",
       "        3114.58669602,  5063.2711774 , 11650.61398649,  6136.89838284,\n",
       "        2172.64097368,  4926.50402222,  5360.47115694,  2310.53104327,\n",
       "        3264.59957178, 12807.00115105, 12852.11556974,  4414.433192  ,\n",
       "        6033.11145803,  6009.88685904,  5286.68317492,  6130.87436967,\n",
       "       13084.57899562,  5248.35178173,  4085.35239549,  5282.31745675,\n",
       "        5938.8836092 ,  4519.09872169,  5412.98628785,  5272.35608264,\n",
       "       12082.64903708,  5325.05725856,  4240.11737541,  5071.1271258 ,\n",
       "        2618.99935904,  4716.11803193,  5432.17264621,  6210.59921603,\n",
       "        5479.36286059,  3522.25618059,  4759.28624354, 12556.75695017,\n",
       "        4721.86373683, 12480.89446875,  6535.41533141, 10718.37845301,\n",
       "        4108.71930695, 12159.13581313, 12894.18975803,  6412.39287091,\n",
       "        5380.05755246,  4461.64473668,  5427.53290415,  2758.88203826,\n",
       "       11616.11035421,  5192.67106952,  4486.02853785,  3090.41982627,\n",
       "        6640.18914212, 12195.66094614,  4794.2299175 ,  5100.43916056,\n",
       "        4191.88387721,  5391.22760372,  4580.38845243,  5446.92388787,\n",
       "        5753.93772255,  5251.05157442,  5796.85997812, 11901.56239039,\n",
       "        5978.8070058 ,  6064.60065587,  6414.44963805,  4729.92857692,\n",
       "        4879.9466129 ,  5851.01972014,  3688.85574695,  7395.73086884,\n",
       "       11998.26443737,  5044.75627171, 12083.60670438,  5221.3986062 ,\n",
       "       12067.64430843,  6213.62647034,  6125.84774874, 12121.68297226,\n",
       "        3540.38378205,  3736.95314502,  2549.05571206,  4813.46451121,\n",
       "        5009.34744519, 12597.4750687 ,  5130.4003598 ,  5673.16839168,\n",
       "        4902.20340711,  6177.6557125 ,  4573.67619237,  3589.79928836,\n",
       "        2884.1488718 ,  5443.57840963,  5257.51592691,  6145.82247891,\n",
       "        3816.10910781, 12178.90625636,  5660.98846319,  4194.57126924,\n",
       "        4301.99666804,  6450.39530093,  2641.83614898,  5334.97906721,\n",
       "       10786.06878402,  4129.19210053,  6232.72113986, 11288.42674107,\n",
       "        4353.01802342,  2935.85970873,  4646.29415643,  5110.75146419,\n",
       "       10609.34720514,  5943.37710872,  5330.6029836 ,  4860.77156607,\n",
       "        5846.32977225,  5064.34240749,  6045.5361918 , 11942.61422826,\n",
       "        5390.75883507,  3736.38129733,  4799.55154955,  5212.69470924,\n",
       "       11717.4161871 , 12482.93782073,  2338.20559772, 11329.13818914,\n",
       "        3494.77833424,  4219.38925488,  3736.38129733,  4900.62950887,\n",
       "        9593.76134726,  6527.48485879,  2376.69271854,  3306.16905798,\n",
       "        4437.45391093,  3213.29003845,  6195.39138126,  4331.56425086,\n",
       "        3357.97394932,  3980.35842823,  4450.89141542,  4718.2343758 ,\n",
       "        2949.62209492,  5131.2644983 ,  5338.75852388,  4442.18103884,\n",
       "        6307.24875545,  6014.27030947,  5053.93412064,  6822.67875686,\n",
       "        4192.52384618,  6269.39642108,  4931.53064316,  4161.42374462,\n",
       "       11432.44221108,  5775.50834364, 12588.66745878,  4902.63353242,\n",
       "        5251.7037388 ,  4717.11426603, 12268.52882901,  6408.81413494,\n",
       "        6718.57975517,  5542.68201434,  5745.82888531, 11980.86740034,\n",
       "        6483.17801175,  3802.00430252,  3610.41078637, 11987.54209226,\n",
       "        2057.50433668,  4379.08064648,  5055.32344557, 12682.51206075,\n",
       "        4191.41510856,  4785.44674427, 12124.11582883,  4521.53926543,\n",
       "       12459.95879359,  4408.94022246,  6452.94149233,  5901.5374554 ,\n",
       "       12979.54566816,  5900.85561117,  4793.17215924,  2943.85912488,\n",
       "       12977.44177477,  5140.1782815 ,  5516.31214298,  3296.04494376,\n",
       "        5058.91634754,  6612.33001436,  4905.25149596,  3974.13008554,\n",
       "        6636.51610665,  2392.59749643, 12266.55261457,  5768.5345556 ,\n",
       "       10564.19134724,  5492.89940441,  2213.72579894,  5554.25577695,\n",
       "       11919.29332569,  5802.77881256,  5229.72727601,  5044.21358904,\n",
       "        5139.80289307,  5422.94434351, 11635.85391042,  6021.84312181,\n",
       "       13053.62369988,  5475.68506896,  7153.71950724,  5304.78243359,\n",
       "        4805.27393562,  4736.03396605,  6254.85372678,  4058.1722004 ,\n",
       "        5360.73498666, 12916.03239891, 12109.77754785,  6317.35283568,\n",
       "        4353.26593098,  5467.30976864,  4923.95783082,  5044.75627171,\n",
       "        3405.05488403,  4818.7876516 , 12136.68098969,  4573.53576527,\n",
       "        2519.66384546,  5566.42198263,  6557.58450374, 12382.17552452,\n",
       "        2863.68669875,  6057.38861289,  5010.68533362,  2192.57010186,\n",
       "        6576.83142157,  4420.09856215, 12306.04022991,  4341.86016755,\n",
       "       12018.61636608,  2641.85745657,  6609.54850731,  4978.76973722,\n",
       "       12789.67484959, 11583.7955321 ,  5552.6096575 ,  4349.14862328,\n",
       "        5704.58143865,  3623.13868735,  4258.73165711,  2330.99321633,\n",
       "        4708.04314674,  7536.32432915,  3987.9722618 ,  5671.61497777,\n",
       "       11876.2153425 ,  4247.46659856,  5418.90086187, 13759.46495425,\n",
       "        5486.79401528,  5157.36771133,  5356.38121607,  4879.58582763,\n",
       "        6107.90469074,  3714.96145697,  5290.99855764,  6568.53392188,\n",
       "        5048.6936507 ,  4051.7078479 ,  4951.28667257,  2540.81954253,\n",
       "       13406.40037102,  3020.41412953, 12289.03810561,  5826.88382653,\n",
       "       12665.1514302 ,  5476.95807902,  4230.23252961, 11846.09796528,\n",
       "        5881.34952054,  7345.16620543,  5056.93921099,  3456.53912099,\n",
       "       12486.59132474,  4244.23468312,  5007.20551061, 11902.56946298,\n",
       "        2746.65603473,  4081.41635356, 12660.29167302,  6020.73466197,\n",
       "        4834.91979211,  6209.14491034, 12888.76803503,  2878.29139024,\n",
       "        5514.95905326,  4642.54533157,  3906.91824268,  4500.17188007,\n",
       "        4120.56123623])"
      ]
     },
     "execution_count": 64,
     "metadata": {},
     "output_type": "execute_result"
    }
   ],
   "source": [
    "Pred1"
   ]
  },
  {
   "cell_type": "code",
   "execution_count": 65,
   "id": "3317c32f",
   "metadata": {},
   "outputs": [
    {
     "data": {
      "text/plain": [
       "0.8430389987635337"
      ]
     },
     "execution_count": 65,
     "metadata": {},
     "output_type": "execute_result"
    }
   ],
   "source": [
    "\n",
    "r2_score(Y_test1,Pred1)"
   ]
  },
  {
   "cell_type": "code",
   "execution_count": 71,
   "id": "1ddd5ab9",
   "metadata": {},
   "outputs": [
    {
     "name": "stderr",
     "output_type": "stream",
     "text": [
      "C:\\Users\\Admin\\anaconda3\\lib\\site-packages\\sklearn\\base.py:450: UserWarning: X does not have valid feature names, but LinearRegression was fitted with feature names\n",
      "  warnings.warn(\n"
     ]
    }
   ],
   "source": [
    "prediction=lin_reg.predict([[5,5,0,5,0,26.67,3]])"
   ]
  },
  {
   "cell_type": "code",
   "execution_count": 72,
   "id": "a5168c9e",
   "metadata": {},
   "outputs": [
    {
     "data": {
      "text/plain": [
       "array([13547.32129295])"
      ]
     },
     "execution_count": 72,
     "metadata": {},
     "output_type": "execute_result"
    }
   ],
   "source": [
    "prediction"
   ]
  },
  {
   "cell_type": "code",
   "execution_count": null,
   "id": "ca618a70",
   "metadata": {},
   "outputs": [],
   "source": []
  },
  {
   "cell_type": "code",
   "execution_count": 76,
   "id": "e25ddcd7",
   "metadata": {},
   "outputs": [
    {
     "name": "stdout",
     "output_type": "stream",
     "text": [
      "'SpiceJet'=4, 'AirAsia'=0, 'Vistara'=5, 'GO_FIRST'=2, 'Indigo'=3,'Air_India'=1\n",
      "Enetre airline above list:Air_India\n",
      "your entered airline is: Air_India\n",
      "your airline value is: 1\n",
      " --------\n",
      "'Evening'=2, 'Early_Morning'=1, 'Morning'=4, 'Afternoon'=0, 'Night'=5,'Late_Night'=3\n",
      "Enetre departure_time From above list:Morning\n",
      "your entered departure_time is: Morning\n",
      "Your departure_time value is: 4\n",
      " --------\n",
      "'zero'=2, 'one'=0, 'two_or_more'=1\n",
      "Enter your stops from above list:two_or_more\n",
      "your entered stops is: two_or_more\n",
      "Your stope value is: 1\n",
      "--------\n",
      "'Evening'=2, 'Early_Morning'=1, 'Morning'=4, 'Afternoon'=0, 'Night'=5,'Late_Night'=3\n",
      "Enetre arrival_time From above list:Afternoon\n",
      "your arrival_time is: Afternoon\n",
      "Your arrival_time value is: 0\n",
      " --------\n",
      "'Economy'=1, 'Business'=0\n",
      "Enter your class from above list:Business\n",
      "your entered class is: Business\n",
      "Your class value is: 0\n",
      "--------\n",
      "Enter A duration vlaue:4.5\n",
      "your entered duration value is: 4.5\n",
      "----------\n",
      "Enter A days_left vlaue:5\n",
      "your entered days_left value is: 5.0\n",
      "----------\n",
      "Your Flight Price is: [11163.43761437]\n"
     ]
    },
    {
     "name": "stderr",
     "output_type": "stream",
     "text": [
      "C:\\Users\\Admin\\anaconda3\\lib\\site-packages\\sklearn\\base.py:450: UserWarning: X does not have valid feature names, but LinearRegression was fitted with feature names\n",
      "  warnings.warn(\n"
     ]
    }
   ],
   "source": [
    "Testing model end to end \n",
    "\n",
    "print(\"'SpiceJet'=4, 'AirAsia'=0, 'Vistara'=5, 'GO_FIRST'=2, 'Indigo'=3,'Air_India'=1\")\n",
    "i = str(input('Enetre airline above list:'))\n",
    "\n",
    "airline=0\n",
    "print(\"your entered airline is:\",i)\n",
    "\n",
    "if i=='SpiceJet':\n",
    "    airline=4\n",
    "elif i == 'AirAsia':\n",
    "    airline=0\n",
    "elif i == 'Vistara':\n",
    "    airline=5\n",
    "elif i=='GO_FIRST':\n",
    "    airline=2\n",
    "elif i=='Indigo':\n",
    "    airline=3\n",
    "elif i=='Air_India':\n",
    "    airline=1\n",
    "print(\"your airline value is:\",airline)\n",
    "\n",
    "print(\" --------\")\n",
    "\n",
    "\n",
    "print(\"'Evening'=2, 'Early_Morning'=1, 'Morning'=4, 'Afternoon'=0, 'Night'=5,'Late_Night'=3\")\n",
    "j=str(input(\"Enetre departure_time From above list:\"))\n",
    "departure_time=0\n",
    "print(\"your entered departure_time is:\",j)\n",
    "if j=='Evening':\n",
    "    departure_time=2\n",
    "elif j=='Early_Morning':\n",
    "    departure_time=1\n",
    "elif j=='Morning':\n",
    "    departure_time=4\n",
    "elif j=='Afternoon':\n",
    "    departure_time=0\n",
    "elif j=='Night':\n",
    "    departure_time=5\n",
    "elif j=='Late_Night':\n",
    "    departure_time=3\n",
    "\n",
    "print(\"Your departure_time value is:\",departure_time)\n",
    "print(\" --------\")\n",
    "\n",
    "\n",
    "print(\"'zero'=2, 'one'=0, 'two_or_more'=1\")\n",
    "k=str(input(\"Enter your stops from above list:\"))\n",
    "stops=0\n",
    "\n",
    "print(\"your entered stops is:\",k)\n",
    "if k=='zero':\n",
    "    stops=2\n",
    "elif k=='one':\n",
    "    stops=0\n",
    "elif k=='two_or_more':\n",
    "    stops=1\n",
    "    \n",
    "print(\"Your stope value is:\",stops)\n",
    "print(\"--------\")\n",
    "\n",
    "\n",
    "print(\"'Evening'=2, 'Early_Morning'=1, 'Morning'=4, 'Afternoon'=0, 'Night'=5,'Late_Night'=3\")\n",
    "l=str(input(\"Enetre arrival_time From above list:\"))\n",
    "arrival_time=0\n",
    "print(\"your arrival_time is:\",l)\n",
    "if l=='Evening':\n",
    "    arrival_time=2\n",
    "elif l=='Early_Morning':\n",
    "    arrival_time=1\n",
    "elif l=='Morning':\n",
    "    arrival_time=4\n",
    "elif l=='Afternoon':\n",
    "    arrival_time=0\n",
    "elif l=='Night':\n",
    "    arrival_time=5\n",
    "elif l=='Late_Night':\n",
    "    arrival_time=3\n",
    "\n",
    "print(\"Your arrival_time value is:\",arrival_time)\n",
    "print(\" --------\")\n",
    "\n",
    "\n",
    "\n",
    "\n",
    "print(\"'Economy'=1, 'Business'=0\")\n",
    "m=str(input(\"Enter your class from above list:\"))\n",
    "c=0\n",
    "\n",
    "print(\"your entered class is:\",m)\n",
    "if m=='Economy':\n",
    "    c=1\n",
    "elif m=='Business':\n",
    "    c=0\n",
    "    \n",
    "print(\"Your class value is:\",c)\n",
    "print(\"--------\")\n",
    "\n",
    "\n",
    "duration=float(input(\"Enter A duration vlaue:\"))\n",
    "print('your entered duration value is:',duration)\n",
    "print(\"----------\")\n",
    "\n",
    "\n",
    "days_left=float(input(\"Enter A days_left vlaue:\"))\n",
    "print('your entered days_left value is:',days_left)\n",
    "\n",
    "print(\"----------\")\n",
    "\n",
    "\n",
    "\n",
    "result1=lin_reg.predict([[airline,departure_time,stops,arrival_time,c,duration,days_left]])\n",
    "print(\"Your Flight Price is:\",result1)"
   ]
  },
  {
   "cell_type": "code",
   "execution_count": 77,
   "id": "4444d6e1",
   "metadata": {},
   "outputs": [],
   "source": [
    "#saving the model\n",
    "import pickle\n",
    "pickle.dump(lin_reg, open('./Flight_Price_Model.sav', 'wb'))"
   ]
  },
  {
   "cell_type": "code",
   "execution_count": null,
   "id": "aa7e499f",
   "metadata": {},
   "outputs": [],
   "source": []
  }
 ],
 "metadata": {
  "kernelspec": {
   "display_name": "Python 3 (ipykernel)",
   "language": "python",
   "name": "python3"
  },
  "language_info": {
   "codemirror_mode": {
    "name": "ipython",
    "version": 3
   },
   "file_extension": ".py",
   "mimetype": "text/x-python",
   "name": "python",
   "nbconvert_exporter": "python",
   "pygments_lexer": "ipython3",
   "version": "3.9.12"
  }
 },
 "nbformat": 4,
 "nbformat_minor": 5
}
